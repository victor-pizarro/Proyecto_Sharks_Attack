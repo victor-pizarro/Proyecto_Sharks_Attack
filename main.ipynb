{
 "cells": [
  {
   "cell_type": "code",
   "execution_count": 1,
   "id": "a9deeda8",
   "metadata": {},
   "outputs": [
    {
     "name": "stdout",
     "output_type": "stream",
     "text": [
      "Python 3.9.7\n"
     ]
    }
   ],
   "source": [
    "!python --version"
   ]
  },
  {
   "cell_type": "markdown",
   "id": "a727a95d",
   "metadata": {},
   "source": [
    "`Librerias`"
   ]
  },
  {
   "cell_type": "code",
   "execution_count": 2,
   "id": "1eadb8da",
   "metadata": {},
   "outputs": [],
   "source": [
    "import pandas as pd\n",
    "import numpy as np\n",
    "import seaborn as sns\n",
    "import regex as re\n",
    "import matplotlib.pyplot as plt\n",
    "\n",
    "from datetime import date, datetime, timedelta\n",
    "from dateutil.relativedelta import relativedelta\n",
    "\n",
    "import warnings\n",
    "warnings.filterwarnings('ignore')"
   ]
  },
  {
   "cell_type": "code",
   "execution_count": 3,
   "id": "b04d8e53",
   "metadata": {},
   "outputs": [],
   "source": [
    "%run src.py"
   ]
  },
  {
   "cell_type": "markdown",
   "id": "c8b46fba",
   "metadata": {},
   "source": [
    "-----------------------\n",
    "`DataFrame`"
   ]
  },
  {
   "cell_type": "code",
   "execution_count": 4,
   "id": "71fd7128",
   "metadata": {},
   "outputs": [
    {
     "data": {
      "text/plain": [
       "(25723, 24)"
      ]
     },
     "execution_count": 4,
     "metadata": {},
     "output_type": "execute_result"
    }
   ],
   "source": [
    "sharks_attacks = pd.read_csv('attacks.csv', encoding='unicode_escape')\n",
    "pd.set_option('display.max_columns',None)\n",
    "sharks = sharks_attacks.copy()\n",
    "sharks.shape"
   ]
  },
  {
   "cell_type": "code",
   "execution_count": 5,
   "id": "fdf742ac",
   "metadata": {},
   "outputs": [
    {
     "data": {
      "text/html": [
       "<div>\n",
       "<style scoped>\n",
       "    .dataframe tbody tr th:only-of-type {\n",
       "        vertical-align: middle;\n",
       "    }\n",
       "\n",
       "    .dataframe tbody tr th {\n",
       "        vertical-align: top;\n",
       "    }\n",
       "\n",
       "    .dataframe thead th {\n",
       "        text-align: right;\n",
       "    }\n",
       "</style>\n",
       "<table border=\"1\" class=\"dataframe\">\n",
       "  <thead>\n",
       "    <tr style=\"text-align: right;\">\n",
       "      <th></th>\n",
       "      <th>Case Number</th>\n",
       "      <th>Date</th>\n",
       "      <th>Year</th>\n",
       "      <th>Type</th>\n",
       "      <th>Country</th>\n",
       "      <th>Area</th>\n",
       "      <th>Location</th>\n",
       "      <th>Activity</th>\n",
       "      <th>Name</th>\n",
       "      <th>Sex</th>\n",
       "      <th>Age</th>\n",
       "      <th>Injury</th>\n",
       "      <th>Fatal (Y/N)</th>\n",
       "      <th>Time</th>\n",
       "      <th>Species</th>\n",
       "      <th>Investigator or Source</th>\n",
       "      <th>pdf</th>\n",
       "      <th>href formula</th>\n",
       "      <th>href</th>\n",
       "      <th>Case Number.1</th>\n",
       "      <th>Case Number.2</th>\n",
       "      <th>original order</th>\n",
       "      <th>Unnamed: 22</th>\n",
       "      <th>Unnamed: 23</th>\n",
       "    </tr>\n",
       "  </thead>\n",
       "  <tbody>\n",
       "    <tr>\n",
       "      <th>0</th>\n",
       "      <td>2018.06.25</td>\n",
       "      <td>25-Jun-2018</td>\n",
       "      <td>2018.0</td>\n",
       "      <td>Boating</td>\n",
       "      <td>USA</td>\n",
       "      <td>California</td>\n",
       "      <td>Oceanside, San Diego County</td>\n",
       "      <td>Paddling</td>\n",
       "      <td>Julie Wolfe</td>\n",
       "      <td>F</td>\n",
       "      <td>57</td>\n",
       "      <td>No injury to occupant, outrigger canoe and pad...</td>\n",
       "      <td>N</td>\n",
       "      <td>18h00</td>\n",
       "      <td>White shark</td>\n",
       "      <td>R. Collier, GSAF</td>\n",
       "      <td>2018.06.25-Wolfe.pdf</td>\n",
       "      <td>http://sharkattackfile.net/spreadsheets/pdf_di...</td>\n",
       "      <td>http://sharkattackfile.net/spreadsheets/pdf_di...</td>\n",
       "      <td>2018.06.25</td>\n",
       "      <td>2018.06.25</td>\n",
       "      <td>6303.0</td>\n",
       "      <td>NaN</td>\n",
       "      <td>NaN</td>\n",
       "    </tr>\n",
       "    <tr>\n",
       "      <th>1</th>\n",
       "      <td>2018.06.18</td>\n",
       "      <td>18-Jun-2018</td>\n",
       "      <td>2018.0</td>\n",
       "      <td>Unprovoked</td>\n",
       "      <td>USA</td>\n",
       "      <td>Georgia</td>\n",
       "      <td>St. Simon Island, Glynn County</td>\n",
       "      <td>Standing</td>\n",
       "      <td>Adyson McNeely</td>\n",
       "      <td>F</td>\n",
       "      <td>11</td>\n",
       "      <td>Minor injury to left thigh</td>\n",
       "      <td>N</td>\n",
       "      <td>14h00  -15h00</td>\n",
       "      <td>NaN</td>\n",
       "      <td>K.McMurray, TrackingSharks.com</td>\n",
       "      <td>2018.06.18-McNeely.pdf</td>\n",
       "      <td>http://sharkattackfile.net/spreadsheets/pdf_di...</td>\n",
       "      <td>http://sharkattackfile.net/spreadsheets/pdf_di...</td>\n",
       "      <td>2018.06.18</td>\n",
       "      <td>2018.06.18</td>\n",
       "      <td>6302.0</td>\n",
       "      <td>NaN</td>\n",
       "      <td>NaN</td>\n",
       "    </tr>\n",
       "    <tr>\n",
       "      <th>2</th>\n",
       "      <td>2018.06.09</td>\n",
       "      <td>09-Jun-2018</td>\n",
       "      <td>2018.0</td>\n",
       "      <td>Invalid</td>\n",
       "      <td>USA</td>\n",
       "      <td>Hawaii</td>\n",
       "      <td>Habush, Oahu</td>\n",
       "      <td>Surfing</td>\n",
       "      <td>John Denges</td>\n",
       "      <td>M</td>\n",
       "      <td>48</td>\n",
       "      <td>Injury to left lower leg from surfboard skeg</td>\n",
       "      <td>N</td>\n",
       "      <td>07h45</td>\n",
       "      <td>NaN</td>\n",
       "      <td>K.McMurray, TrackingSharks.com</td>\n",
       "      <td>2018.06.09-Denges.pdf</td>\n",
       "      <td>http://sharkattackfile.net/spreadsheets/pdf_di...</td>\n",
       "      <td>http://sharkattackfile.net/spreadsheets/pdf_di...</td>\n",
       "      <td>2018.06.09</td>\n",
       "      <td>2018.06.09</td>\n",
       "      <td>6301.0</td>\n",
       "      <td>NaN</td>\n",
       "      <td>NaN</td>\n",
       "    </tr>\n",
       "    <tr>\n",
       "      <th>3</th>\n",
       "      <td>2018.06.08</td>\n",
       "      <td>08-Jun-2018</td>\n",
       "      <td>2018.0</td>\n",
       "      <td>Unprovoked</td>\n",
       "      <td>AUSTRALIA</td>\n",
       "      <td>New South Wales</td>\n",
       "      <td>Arrawarra Headland</td>\n",
       "      <td>Surfing</td>\n",
       "      <td>male</td>\n",
       "      <td>M</td>\n",
       "      <td>NaN</td>\n",
       "      <td>Minor injury to lower leg</td>\n",
       "      <td>N</td>\n",
       "      <td>NaN</td>\n",
       "      <td>2 m shark</td>\n",
       "      <td>B. Myatt, GSAF</td>\n",
       "      <td>2018.06.08-Arrawarra.pdf</td>\n",
       "      <td>http://sharkattackfile.net/spreadsheets/pdf_di...</td>\n",
       "      <td>http://sharkattackfile.net/spreadsheets/pdf_di...</td>\n",
       "      <td>2018.06.08</td>\n",
       "      <td>2018.06.08</td>\n",
       "      <td>6300.0</td>\n",
       "      <td>NaN</td>\n",
       "      <td>NaN</td>\n",
       "    </tr>\n",
       "    <tr>\n",
       "      <th>4</th>\n",
       "      <td>2018.06.04</td>\n",
       "      <td>04-Jun-2018</td>\n",
       "      <td>2018.0</td>\n",
       "      <td>Provoked</td>\n",
       "      <td>MEXICO</td>\n",
       "      <td>Colima</td>\n",
       "      <td>La Ticla</td>\n",
       "      <td>Free diving</td>\n",
       "      <td>Gustavo Ramos</td>\n",
       "      <td>M</td>\n",
       "      <td>NaN</td>\n",
       "      <td>Lacerations to leg &amp; hand shark PROVOKED INCIDENT</td>\n",
       "      <td>N</td>\n",
       "      <td>NaN</td>\n",
       "      <td>Tiger shark, 3m</td>\n",
       "      <td>A .Kipper</td>\n",
       "      <td>2018.06.04-Ramos.pdf</td>\n",
       "      <td>http://sharkattackfile.net/spreadsheets/pdf_di...</td>\n",
       "      <td>http://sharkattackfile.net/spreadsheets/pdf_di...</td>\n",
       "      <td>2018.06.04</td>\n",
       "      <td>2018.06.04</td>\n",
       "      <td>6299.0</td>\n",
       "      <td>NaN</td>\n",
       "      <td>NaN</td>\n",
       "    </tr>\n",
       "    <tr>\n",
       "      <th>...</th>\n",
       "      <td>...</td>\n",
       "      <td>...</td>\n",
       "      <td>...</td>\n",
       "      <td>...</td>\n",
       "      <td>...</td>\n",
       "      <td>...</td>\n",
       "      <td>...</td>\n",
       "      <td>...</td>\n",
       "      <td>...</td>\n",
       "      <td>...</td>\n",
       "      <td>...</td>\n",
       "      <td>...</td>\n",
       "      <td>...</td>\n",
       "      <td>...</td>\n",
       "      <td>...</td>\n",
       "      <td>...</td>\n",
       "      <td>...</td>\n",
       "      <td>...</td>\n",
       "      <td>...</td>\n",
       "      <td>...</td>\n",
       "      <td>...</td>\n",
       "      <td>...</td>\n",
       "      <td>...</td>\n",
       "      <td>...</td>\n",
       "    </tr>\n",
       "    <tr>\n",
       "      <th>25718</th>\n",
       "      <td>NaN</td>\n",
       "      <td>NaN</td>\n",
       "      <td>NaN</td>\n",
       "      <td>NaN</td>\n",
       "      <td>NaN</td>\n",
       "      <td>NaN</td>\n",
       "      <td>NaN</td>\n",
       "      <td>NaN</td>\n",
       "      <td>NaN</td>\n",
       "      <td>NaN</td>\n",
       "      <td>NaN</td>\n",
       "      <td>NaN</td>\n",
       "      <td>NaN</td>\n",
       "      <td>NaN</td>\n",
       "      <td>NaN</td>\n",
       "      <td>NaN</td>\n",
       "      <td>NaN</td>\n",
       "      <td>NaN</td>\n",
       "      <td>NaN</td>\n",
       "      <td>NaN</td>\n",
       "      <td>NaN</td>\n",
       "      <td>NaN</td>\n",
       "      <td>NaN</td>\n",
       "      <td>NaN</td>\n",
       "    </tr>\n",
       "    <tr>\n",
       "      <th>25719</th>\n",
       "      <td>NaN</td>\n",
       "      <td>NaN</td>\n",
       "      <td>NaN</td>\n",
       "      <td>NaN</td>\n",
       "      <td>NaN</td>\n",
       "      <td>NaN</td>\n",
       "      <td>NaN</td>\n",
       "      <td>NaN</td>\n",
       "      <td>NaN</td>\n",
       "      <td>NaN</td>\n",
       "      <td>NaN</td>\n",
       "      <td>NaN</td>\n",
       "      <td>NaN</td>\n",
       "      <td>NaN</td>\n",
       "      <td>NaN</td>\n",
       "      <td>NaN</td>\n",
       "      <td>NaN</td>\n",
       "      <td>NaN</td>\n",
       "      <td>NaN</td>\n",
       "      <td>NaN</td>\n",
       "      <td>NaN</td>\n",
       "      <td>NaN</td>\n",
       "      <td>NaN</td>\n",
       "      <td>NaN</td>\n",
       "    </tr>\n",
       "    <tr>\n",
       "      <th>25720</th>\n",
       "      <td>NaN</td>\n",
       "      <td>NaN</td>\n",
       "      <td>NaN</td>\n",
       "      <td>NaN</td>\n",
       "      <td>NaN</td>\n",
       "      <td>NaN</td>\n",
       "      <td>NaN</td>\n",
       "      <td>NaN</td>\n",
       "      <td>NaN</td>\n",
       "      <td>NaN</td>\n",
       "      <td>NaN</td>\n",
       "      <td>NaN</td>\n",
       "      <td>NaN</td>\n",
       "      <td>NaN</td>\n",
       "      <td>NaN</td>\n",
       "      <td>NaN</td>\n",
       "      <td>NaN</td>\n",
       "      <td>NaN</td>\n",
       "      <td>NaN</td>\n",
       "      <td>NaN</td>\n",
       "      <td>NaN</td>\n",
       "      <td>NaN</td>\n",
       "      <td>NaN</td>\n",
       "      <td>NaN</td>\n",
       "    </tr>\n",
       "    <tr>\n",
       "      <th>25721</th>\n",
       "      <td>NaN</td>\n",
       "      <td>NaN</td>\n",
       "      <td>NaN</td>\n",
       "      <td>NaN</td>\n",
       "      <td>NaN</td>\n",
       "      <td>NaN</td>\n",
       "      <td>NaN</td>\n",
       "      <td>NaN</td>\n",
       "      <td>NaN</td>\n",
       "      <td>NaN</td>\n",
       "      <td>NaN</td>\n",
       "      <td>NaN</td>\n",
       "      <td>NaN</td>\n",
       "      <td>NaN</td>\n",
       "      <td>NaN</td>\n",
       "      <td>NaN</td>\n",
       "      <td>NaN</td>\n",
       "      <td>NaN</td>\n",
       "      <td>NaN</td>\n",
       "      <td>NaN</td>\n",
       "      <td>NaN</td>\n",
       "      <td>NaN</td>\n",
       "      <td>NaN</td>\n",
       "      <td>NaN</td>\n",
       "    </tr>\n",
       "    <tr>\n",
       "      <th>25722</th>\n",
       "      <td>xx</td>\n",
       "      <td>NaN</td>\n",
       "      <td>NaN</td>\n",
       "      <td>NaN</td>\n",
       "      <td>NaN</td>\n",
       "      <td>NaN</td>\n",
       "      <td>NaN</td>\n",
       "      <td>NaN</td>\n",
       "      <td>NaN</td>\n",
       "      <td>NaN</td>\n",
       "      <td>NaN</td>\n",
       "      <td>NaN</td>\n",
       "      <td>NaN</td>\n",
       "      <td>NaN</td>\n",
       "      <td>NaN</td>\n",
       "      <td>NaN</td>\n",
       "      <td>NaN</td>\n",
       "      <td>NaN</td>\n",
       "      <td>NaN</td>\n",
       "      <td>NaN</td>\n",
       "      <td>NaN</td>\n",
       "      <td>NaN</td>\n",
       "      <td>NaN</td>\n",
       "      <td>NaN</td>\n",
       "    </tr>\n",
       "  </tbody>\n",
       "</table>\n",
       "<p>25723 rows × 24 columns</p>\n",
       "</div>"
      ],
      "text/plain": [
       "      Case Number         Date    Year        Type    Country  \\\n",
       "0      2018.06.25  25-Jun-2018  2018.0     Boating        USA   \n",
       "1      2018.06.18  18-Jun-2018  2018.0  Unprovoked        USA   \n",
       "2      2018.06.09  09-Jun-2018  2018.0     Invalid        USA   \n",
       "3      2018.06.08  08-Jun-2018  2018.0  Unprovoked  AUSTRALIA   \n",
       "4      2018.06.04  04-Jun-2018  2018.0    Provoked     MEXICO   \n",
       "...           ...          ...     ...         ...        ...   \n",
       "25718         NaN          NaN     NaN         NaN        NaN   \n",
       "25719         NaN          NaN     NaN         NaN        NaN   \n",
       "25720         NaN          NaN     NaN         NaN        NaN   \n",
       "25721         NaN          NaN     NaN         NaN        NaN   \n",
       "25722          xx          NaN     NaN         NaN        NaN   \n",
       "\n",
       "                  Area                        Location     Activity  \\\n",
       "0           California     Oceanside, San Diego County     Paddling   \n",
       "1              Georgia  St. Simon Island, Glynn County     Standing   \n",
       "2               Hawaii                    Habush, Oahu      Surfing   \n",
       "3      New South Wales              Arrawarra Headland      Surfing   \n",
       "4               Colima                        La Ticla  Free diving   \n",
       "...                ...                             ...          ...   \n",
       "25718              NaN                             NaN          NaN   \n",
       "25719              NaN                             NaN          NaN   \n",
       "25720              NaN                             NaN          NaN   \n",
       "25721              NaN                             NaN          NaN   \n",
       "25722              NaN                             NaN          NaN   \n",
       "\n",
       "                  Name Sex   Age  \\\n",
       "0          Julie Wolfe    F   57   \n",
       "1      Adyson McNeely     F   11   \n",
       "2          John Denges    M   48   \n",
       "3                 male    M  NaN   \n",
       "4       Gustavo Ramos     M  NaN   \n",
       "...                ...  ...  ...   \n",
       "25718              NaN  NaN  NaN   \n",
       "25719              NaN  NaN  NaN   \n",
       "25720              NaN  NaN  NaN   \n",
       "25721              NaN  NaN  NaN   \n",
       "25722              NaN  NaN  NaN   \n",
       "\n",
       "                                                  Injury Fatal (Y/N)  \\\n",
       "0      No injury to occupant, outrigger canoe and pad...           N   \n",
       "1                             Minor injury to left thigh           N   \n",
       "2           Injury to left lower leg from surfboard skeg           N   \n",
       "3                              Minor injury to lower leg           N   \n",
       "4      Lacerations to leg & hand shark PROVOKED INCIDENT           N   \n",
       "...                                                  ...         ...   \n",
       "25718                                                NaN         NaN   \n",
       "25719                                                NaN         NaN   \n",
       "25720                                                NaN         NaN   \n",
       "25721                                                NaN         NaN   \n",
       "25722                                                NaN         NaN   \n",
       "\n",
       "                Time         Species           Investigator or Source  \\\n",
       "0              18h00      White shark                R. Collier, GSAF   \n",
       "1      14h00  -15h00              NaN  K.McMurray, TrackingSharks.com   \n",
       "2              07h45              NaN  K.McMurray, TrackingSharks.com   \n",
       "3                NaN        2 m shark                  B. Myatt, GSAF   \n",
       "4                NaN  Tiger shark, 3m                       A .Kipper   \n",
       "...              ...              ...                             ...   \n",
       "25718            NaN              NaN                             NaN   \n",
       "25719            NaN              NaN                             NaN   \n",
       "25720            NaN              NaN                             NaN   \n",
       "25721            NaN              NaN                             NaN   \n",
       "25722            NaN              NaN                             NaN   \n",
       "\n",
       "                            pdf  \\\n",
       "0          2018.06.25-Wolfe.pdf   \n",
       "1        2018.06.18-McNeely.pdf   \n",
       "2         2018.06.09-Denges.pdf   \n",
       "3      2018.06.08-Arrawarra.pdf   \n",
       "4          2018.06.04-Ramos.pdf   \n",
       "...                         ...   \n",
       "25718                       NaN   \n",
       "25719                       NaN   \n",
       "25720                       NaN   \n",
       "25721                       NaN   \n",
       "25722                       NaN   \n",
       "\n",
       "                                            href formula  \\\n",
       "0      http://sharkattackfile.net/spreadsheets/pdf_di...   \n",
       "1      http://sharkattackfile.net/spreadsheets/pdf_di...   \n",
       "2      http://sharkattackfile.net/spreadsheets/pdf_di...   \n",
       "3      http://sharkattackfile.net/spreadsheets/pdf_di...   \n",
       "4      http://sharkattackfile.net/spreadsheets/pdf_di...   \n",
       "...                                                  ...   \n",
       "25718                                                NaN   \n",
       "25719                                                NaN   \n",
       "25720                                                NaN   \n",
       "25721                                                NaN   \n",
       "25722                                                NaN   \n",
       "\n",
       "                                                    href Case Number.1  \\\n",
       "0      http://sharkattackfile.net/spreadsheets/pdf_di...    2018.06.25   \n",
       "1      http://sharkattackfile.net/spreadsheets/pdf_di...    2018.06.18   \n",
       "2      http://sharkattackfile.net/spreadsheets/pdf_di...    2018.06.09   \n",
       "3      http://sharkattackfile.net/spreadsheets/pdf_di...    2018.06.08   \n",
       "4      http://sharkattackfile.net/spreadsheets/pdf_di...    2018.06.04   \n",
       "...                                                  ...           ...   \n",
       "25718                                                NaN           NaN   \n",
       "25719                                                NaN           NaN   \n",
       "25720                                                NaN           NaN   \n",
       "25721                                                NaN           NaN   \n",
       "25722                                                NaN           NaN   \n",
       "\n",
       "      Case Number.2  original order Unnamed: 22 Unnamed: 23  \n",
       "0        2018.06.25          6303.0         NaN         NaN  \n",
       "1        2018.06.18          6302.0         NaN         NaN  \n",
       "2        2018.06.09          6301.0         NaN         NaN  \n",
       "3        2018.06.08          6300.0         NaN         NaN  \n",
       "4        2018.06.04          6299.0         NaN         NaN  \n",
       "...             ...             ...         ...         ...  \n",
       "25718           NaN             NaN         NaN         NaN  \n",
       "25719           NaN             NaN         NaN         NaN  \n",
       "25720           NaN             NaN         NaN         NaN  \n",
       "25721           NaN             NaN         NaN         NaN  \n",
       "25722           NaN             NaN         NaN         NaN  \n",
       "\n",
       "[25723 rows x 24 columns]"
      ]
     },
     "execution_count": 5,
     "metadata": {},
     "output_type": "execute_result"
    }
   ],
   "source": [
    "sharks"
   ]
  },
  {
   "cell_type": "markdown",
   "id": "a9b336c2",
   "metadata": {},
   "source": [
    "----------------------------------\n",
    "`Modificando columnas`"
   ]
  },
  {
   "cell_type": "code",
   "execution_count": 6,
   "id": "d48d7363",
   "metadata": {},
   "outputs": [
    {
     "data": {
      "text/plain": [
       "Index(['Case number', 'Date', 'Year', 'Type', 'Country', 'Area', 'Location',\n",
       "       'Activity', 'Name', 'Sex', 'Age', 'Injury', 'Fatal (y/n)', 'Time',\n",
       "       'Species', 'Investigator or source', 'Pdf', 'Href formula', 'Href',\n",
       "       'Case number.1', 'Case number.2', 'Original order', 'Unnamed: 22',\n",
       "       'Unnamed: 23'],\n",
       "      dtype='object')"
      ]
     },
     "execution_count": 6,
     "metadata": {},
     "output_type": "execute_result"
    }
   ],
   "source": [
    "format_columns(sharks)"
   ]
  },
  {
   "cell_type": "markdown",
   "id": "0a9afdae",
   "metadata": {},
   "source": [
    "----------------\n",
    "`Información básica del DataFrame`"
   ]
  },
  {
   "cell_type": "code",
   "execution_count": 7,
   "id": "254b908e",
   "metadata": {},
   "outputs": [
    {
     "name": "stdout",
     "output_type": "stream",
     "text": [
      "<class 'pandas.core.frame.DataFrame'>\n",
      "RangeIndex: 25723 entries, 0 to 25722\n",
      "Data columns (total 24 columns):\n",
      " #   Column                  Non-Null Count  Dtype  \n",
      "---  ------                  --------------  -----  \n",
      " 0   Case number             8702 non-null   object \n",
      " 1   Date                    6302 non-null   object \n",
      " 2   Year                    6300 non-null   float64\n",
      " 3   Type                    6298 non-null   object \n",
      " 4   Country                 6252 non-null   object \n",
      " 5   Area                    5847 non-null   object \n",
      " 6   Location                5762 non-null   object \n",
      " 7   Activity                5758 non-null   object \n",
      " 8   Name                    6092 non-null   object \n",
      " 9   Sex                     5737 non-null   object \n",
      " 10  Age                     3471 non-null   object \n",
      " 11  Injury                  6274 non-null   object \n",
      " 12  Fatal (y/n)             5763 non-null   object \n",
      " 13  Time                    2948 non-null   object \n",
      " 14  Species                 3464 non-null   object \n",
      " 15  Investigator or source  6285 non-null   object \n",
      " 16  Pdf                     6302 non-null   object \n",
      " 17  Href formula            6301 non-null   object \n",
      " 18  Href                    6302 non-null   object \n",
      " 19  Case number.1           6302 non-null   object \n",
      " 20  Case number.2           6302 non-null   object \n",
      " 21  Original order          6309 non-null   float64\n",
      " 22  Unnamed: 22             1 non-null      object \n",
      " 23  Unnamed: 23             2 non-null      object \n",
      "dtypes: float64(2), object(22)\n",
      "memory usage: 4.7+ MB\n"
     ]
    }
   ],
   "source": [
    "sharks.info()"
   ]
  },
  {
   "cell_type": "markdown",
   "id": "4034883d",
   "metadata": {},
   "source": [
    "------------------\n",
    "`Eliminamos columnas que no aporten valor`"
   ]
  },
  {
   "cell_type": "code",
   "execution_count": 8,
   "id": "37915580",
   "metadata": {},
   "outputs": [],
   "source": [
    "columnas_eliminadas = ['Date','Year','Area','Location','Name','Time','Investigator or source','Pdf','Href formula','Href','Case number.1','Case number.2','Original order','Unnamed: 22','Unnamed: 23']\n",
    "sharks.drop(axis=1,columns=columnas_eliminadas, inplace=True)"
   ]
  },
  {
   "cell_type": "markdown",
   "id": "18605986",
   "metadata": {},
   "source": [
    "-------------------------------------\n",
    "`Duplicados`"
   ]
  },
  {
   "cell_type": "code",
   "execution_count": 9,
   "id": "9c593cfd",
   "metadata": {},
   "outputs": [
    {
     "name": "stdout",
     "output_type": "stream",
     "text": [
      "Inicialmente hay 25723 registros, de los cuales 19419 son registros duplicados.\n",
      "Eliminando duplicados...\n",
      "Tras la limpieza hay 6304 registros y hay un total de 0 registros duplicados.\n"
     ]
    }
   ],
   "source": [
    "drop_duplicates(sharks)"
   ]
  },
  {
   "cell_type": "markdown",
   "id": "5a531fa6",
   "metadata": {},
   "source": [
    "----------------------------------\n",
    "`Nulos`"
   ]
  },
  {
   "cell_type": "code",
   "execution_count": 10,
   "id": "0d731960",
   "metadata": {},
   "outputs": [
    {
     "name": "stdout",
     "output_type": "stream",
     "text": [
      "Case number    0.000317\n",
      "Type           0.001110\n",
      "Country        0.008407\n",
      "Activity       0.086770\n",
      "Sex            0.090102\n",
      "Age            0.449397\n",
      "Injury         0.004918\n",
      "Fatal (y/n)    0.085977\n",
      "Species        0.450508\n",
      "dtype: float64\n",
      "\n",
      "La media de nulos en el DataFrame es de: 0.13\n"
     ]
    }
   ],
   "source": [
    "# Porcentaje de nulos por columna\n",
    "print(sharks.isnull().sum()/sharks.shape[0])\n",
    "print(f'\\nLa media de nulos en el DataFrame es de: {round((sharks.isnull().sum()/sharks.shape[0]).mean(),2)}')"
   ]
  },
  {
   "cell_type": "markdown",
   "id": "b9654690",
   "metadata": {},
   "source": [
    "-------------------------\n",
    "`LIMPIEZA CAMPOS/COLUMNAS`"
   ]
  },
  {
   "cell_type": "markdown",
   "id": "7cfc0f9a",
   "metadata": {},
   "source": [
    "`CASE NUMBER`"
   ]
  },
  {
   "cell_type": "code",
   "execution_count": 11,
   "id": "677e5dd7",
   "metadata": {},
   "outputs": [
    {
     "data": {
      "text/plain": [
       "0      2018-06-25\n",
       "1      2018-06-18\n",
       "2      2018-06-09\n",
       "3      2018-06-08\n",
       "4      2018-06-04\n",
       "          ...    \n",
       "6299          NaT\n",
       "6300          NaT\n",
       "6301          NaT\n",
       "6302          NaT\n",
       "6303          NaT\n",
       "Name: Case number, Length: 6304, dtype: datetime64[ns]"
      ]
     },
     "execution_count": 11,
     "metadata": {},
     "output_type": "execute_result"
    }
   ],
   "source": [
    "case_number_clean(sharks,'Case number')"
   ]
  },
  {
   "cell_type": "markdown",
   "id": "dbaacb23",
   "metadata": {},
   "source": [
    "----------------------------------------------\n",
    "`TYPE`"
   ]
  },
  {
   "cell_type": "code",
   "execution_count": 12,
   "id": "2c93f8e9",
   "metadata": {},
   "outputs": [
    {
     "data": {
      "text/plain": [
       "0        Undefined\n",
       "1       Unprovoked\n",
       "2        Undefined\n",
       "3       Unprovoked\n",
       "4         Provoked\n",
       "           ...    \n",
       "6299    Unprovoked\n",
       "6300    Unprovoked\n",
       "6301     Undefined\n",
       "6302     Undefined\n",
       "6303     Undefined\n",
       "Name: Type, Length: 6304, dtype: object"
      ]
     },
     "execution_count": 12,
     "metadata": {},
     "output_type": "execute_result"
    }
   ],
   "source": [
    "type_clean(sharks,'Type')"
   ]
  },
  {
   "cell_type": "markdown",
   "id": "3ca02459",
   "metadata": {},
   "source": [
    "-------------------\n",
    "`COUNTRY`"
   ]
  },
  {
   "cell_type": "code",
   "execution_count": 13,
   "id": "fa589f3e",
   "metadata": {},
   "outputs": [
    {
     "data": {
      "text/plain": [
       "USA                 2232\n",
       "AUSTRALIA           1338\n",
       "SOUTH AFRICA         579\n",
       "UNDEFINED            173\n",
       "PAPUA NEW GUINEA     155\n",
       "                    ... \n",
       "GUATEMALA              1\n",
       "ARGENTINA              1\n",
       "MAYOTTE                1\n",
       "GABON                  1\n",
       "BAHREIN                1\n",
       "Name: Country, Length: 132, dtype: int64"
      ]
     },
     "execution_count": 13,
     "metadata": {},
     "output_type": "execute_result"
    }
   ],
   "source": [
    "country_clean(sharks,'Country')"
   ]
  },
  {
   "cell_type": "markdown",
   "id": "4e3ac926",
   "metadata": {},
   "source": [
    "`Líneas futuras para el campo Country`\n",
    "\n",
    "\n",
    "Usar `GeoPy` para obtener coordenadas (direcciones, ciudades, paises y puntos de referencia). Este usa geocodiicadores de terceros y otras fuentes de datos.\n",
    "\n",
    "\n",
    "Usar `Cartopy` para dibujar maas para que el analisis y la visualización sea más intuitivo."
   ]
  },
  {
   "cell_type": "markdown",
   "id": "d4bd414a",
   "metadata": {},
   "source": [
    "-----------------------\n",
    "`ACTIVITY`"
   ]
  },
  {
   "cell_type": "code",
   "execution_count": 14,
   "id": "c2e66019",
   "metadata": {},
   "outputs": [
    {
     "data": {
      "text/plain": [
       "non common activity    1458\n",
       "fishing                1160\n",
       "surfing                1127\n",
       "swimming               1110\n",
       "diving activity         528\n",
       "bathing                 190\n",
       "wading                  165\n",
       "standing                131\n",
       "body boarding           111\n",
       "snorkeling               94\n",
       "fell overboard           56\n",
       "kayaking                 50\n",
       "floating                 46\n",
       "treading water           37\n",
       "walking                  22\n",
       "surf skiing              19\n",
       "Name: Activity, dtype: int64"
      ]
     },
     "execution_count": 14,
     "metadata": {},
     "output_type": "execute_result"
    }
   ],
   "source": [
    "activity_clean(sharks,'Activity')"
   ]
  },
  {
   "cell_type": "markdown",
   "id": "8d998a4a",
   "metadata": {},
   "source": [
    "---------------------\n",
    "`SEX`"
   ]
  },
  {
   "cell_type": "code",
   "execution_count": 15,
   "id": "9ccf36b5",
   "metadata": {},
   "outputs": [
    {
     "data": {
      "text/plain": [
       "M              5095\n",
       "F               637\n",
       "Not defined     572\n",
       "Name: Sex, dtype: int64"
      ]
     },
     "execution_count": 15,
     "metadata": {},
     "output_type": "execute_result"
    }
   ],
   "source": [
    "sex_clean(sharks,'Sex')"
   ]
  },
  {
   "cell_type": "markdown",
   "id": "7b230d71",
   "metadata": {},
   "source": [
    "-------------------\n",
    "`AGE`"
   ]
  },
  {
   "cell_type": "code",
   "execution_count": 16,
   "id": "b32efaa6",
   "metadata": {},
   "outputs": [
    {
     "data": {
      "text/plain": [
       "17.0    154\n",
       "18.0    150\n",
       "19.0    142\n",
       "20.0    142\n",
       "15.0    139\n",
       "       ... \n",
       "87.0      1\n",
       "67.0      1\n",
       "72.0      1\n",
       "81.0      1\n",
       "82.0      1\n",
       "Name: Age, Length: 80, dtype: int64"
      ]
     },
     "execution_count": 16,
     "metadata": {},
     "output_type": "execute_result"
    }
   ],
   "source": [
    "age_clean(sharks,'Age')"
   ]
  },
  {
   "cell_type": "markdown",
   "id": "93e65574",
   "metadata": {},
   "source": [
    "-------------------\n",
    "`FATAL`"
   ]
  },
  {
   "cell_type": "code",
   "execution_count": 17,
   "id": "6a120746",
   "metadata": {},
   "outputs": [
    {
     "data": {
      "text/plain": [
       "N          4300\n",
       "Y          1389\n",
       "UNKNOWN     615\n",
       "Name: Fatal (y/n), dtype: int64"
      ]
     },
     "execution_count": 17,
     "metadata": {},
     "output_type": "execute_result"
    }
   ],
   "source": [
    "fatal_clean(sharks,'Fatal (y/n)')"
   ]
  },
  {
   "cell_type": "markdown",
   "id": "96c857cd",
   "metadata": {},
   "source": [
    "------------------\n",
    "`SPECIES`"
   ]
  },
  {
   "cell_type": "code",
   "execution_count": 18,
   "id": "093d1606",
   "metadata": {},
   "outputs": [
    {
     "data": {
      "text/plain": [
       "not identified       4715\n",
       "white shark           635\n",
       "tiger shark           285\n",
       "bull shark            176\n",
       "nurse shark            97\n",
       "blacktip shark         64\n",
       "mako shark             54\n",
       "wobbegong shark        46\n",
       "hammerhead shark       44\n",
       "spinner shark          43\n",
       "raggedtooth shark      43\n",
       "blue shark             41\n",
       "lemon shark            35\n",
       "sevengill shark        13\n",
       "galapagos shark         7\n",
       "angel shark             6\n",
       "Name: Species, dtype: int64"
      ]
     },
     "execution_count": 18,
     "metadata": {},
     "output_type": "execute_result"
    }
   ],
   "source": [
    "species_clean(sharks,'Species')"
   ]
  },
  {
   "cell_type": "markdown",
   "id": "961b0dca",
   "metadata": {},
   "source": [
    "---------------------\n",
    "`INJURY`"
   ]
  },
  {
   "cell_type": "code",
   "execution_count": 19,
   "id": "79469a8e",
   "metadata": {},
   "outputs": [
    {
     "data": {
      "text/plain": [
       "not defined    2429\n",
       "leg             963\n",
       "no injury       804\n",
       "foot            644\n",
       "arm             499\n",
       "hand            332\n",
       "calf            213\n",
       "ankle           203\n",
       "knee             76\n",
       "shoulder         46\n",
       "torso            45\n",
       "heel             35\n",
       "elbow            15\n",
       "Name: Injury, dtype: int64"
      ]
     },
     "execution_count": 19,
     "metadata": {},
     "output_type": "execute_result"
    }
   ],
   "source": [
    "injury_clear(sharks,'Injury')"
   ]
  },
  {
   "cell_type": "markdown",
   "id": "5f843665",
   "metadata": {},
   "source": [
    "---------------------\n",
    "`DATAFRAME`"
   ]
  },
  {
   "cell_type": "code",
   "execution_count": 20,
   "id": "f5649b38",
   "metadata": {},
   "outputs": [],
   "source": [
    "sharks.dropna(inplace=True)"
   ]
  },
  {
   "cell_type": "code",
   "execution_count": 21,
   "id": "73e35cfd",
   "metadata": {},
   "outputs": [
    {
     "data": {
      "text/html": [
       "<div>\n",
       "<style scoped>\n",
       "    .dataframe tbody tr th:only-of-type {\n",
       "        vertical-align: middle;\n",
       "    }\n",
       "\n",
       "    .dataframe tbody tr th {\n",
       "        vertical-align: top;\n",
       "    }\n",
       "\n",
       "    .dataframe thead th {\n",
       "        text-align: right;\n",
       "    }\n",
       "</style>\n",
       "<table border=\"1\" class=\"dataframe\">\n",
       "  <thead>\n",
       "    <tr style=\"text-align: right;\">\n",
       "      <th></th>\n",
       "      <th>Case number</th>\n",
       "      <th>Type</th>\n",
       "      <th>Country</th>\n",
       "      <th>Activity</th>\n",
       "      <th>Sex</th>\n",
       "      <th>Age</th>\n",
       "      <th>Injury</th>\n",
       "      <th>Fatal (y/n)</th>\n",
       "      <th>Species</th>\n",
       "    </tr>\n",
       "  </thead>\n",
       "  <tbody>\n",
       "    <tr>\n",
       "      <th>0</th>\n",
       "      <td>2018-06-25</td>\n",
       "      <td>Undefined</td>\n",
       "      <td>USA</td>\n",
       "      <td>non common activity</td>\n",
       "      <td>F</td>\n",
       "      <td>57.0</td>\n",
       "      <td>no injury</td>\n",
       "      <td>N</td>\n",
       "      <td>white shark</td>\n",
       "    </tr>\n",
       "    <tr>\n",
       "      <th>1</th>\n",
       "      <td>2018-06-18</td>\n",
       "      <td>Unprovoked</td>\n",
       "      <td>USA</td>\n",
       "      <td>standing</td>\n",
       "      <td>F</td>\n",
       "      <td>11.0</td>\n",
       "      <td>not defined</td>\n",
       "      <td>N</td>\n",
       "      <td>not identified</td>\n",
       "    </tr>\n",
       "    <tr>\n",
       "      <th>2</th>\n",
       "      <td>2018-06-09</td>\n",
       "      <td>Undefined</td>\n",
       "      <td>USA</td>\n",
       "      <td>surfing</td>\n",
       "      <td>M</td>\n",
       "      <td>48.0</td>\n",
       "      <td>leg</td>\n",
       "      <td>N</td>\n",
       "      <td>not identified</td>\n",
       "    </tr>\n",
       "    <tr>\n",
       "      <th>6</th>\n",
       "      <td>2018-06-03</td>\n",
       "      <td>Unprovoked</td>\n",
       "      <td>BRAZIL</td>\n",
       "      <td>swimming</td>\n",
       "      <td>M</td>\n",
       "      <td>18.0</td>\n",
       "      <td>not defined</td>\n",
       "      <td>Y</td>\n",
       "      <td>tiger shark</td>\n",
       "    </tr>\n",
       "    <tr>\n",
       "      <th>7</th>\n",
       "      <td>2018-05-27</td>\n",
       "      <td>Unprovoked</td>\n",
       "      <td>USA</td>\n",
       "      <td>fishing</td>\n",
       "      <td>M</td>\n",
       "      <td>52.0</td>\n",
       "      <td>foot</td>\n",
       "      <td>N</td>\n",
       "      <td>lemon shark</td>\n",
       "    </tr>\n",
       "    <tr>\n",
       "      <th>...</th>\n",
       "      <td>...</td>\n",
       "      <td>...</td>\n",
       "      <td>...</td>\n",
       "      <td>...</td>\n",
       "      <td>...</td>\n",
       "      <td>...</td>\n",
       "      <td>...</td>\n",
       "      <td>...</td>\n",
       "      <td>...</td>\n",
       "    </tr>\n",
       "    <tr>\n",
       "      <th>6076</th>\n",
       "      <td>1837-01-17</td>\n",
       "      <td>Unprovoked</td>\n",
       "      <td>AUSTRALIA</td>\n",
       "      <td>non common activity</td>\n",
       "      <td>M</td>\n",
       "      <td>12.0</td>\n",
       "      <td>not defined</td>\n",
       "      <td>Y</td>\n",
       "      <td>not identified</td>\n",
       "    </tr>\n",
       "    <tr>\n",
       "      <th>6088</th>\n",
       "      <td>1830-07-26</td>\n",
       "      <td>Unprovoked</td>\n",
       "      <td>USA</td>\n",
       "      <td>fishing</td>\n",
       "      <td>M</td>\n",
       "      <td>52.0</td>\n",
       "      <td>not defined</td>\n",
       "      <td>Y</td>\n",
       "      <td>not identified</td>\n",
       "    </tr>\n",
       "    <tr>\n",
       "      <th>6095</th>\n",
       "      <td>1828-09-28</td>\n",
       "      <td>Unprovoked</td>\n",
       "      <td>SIERRA LEONE</td>\n",
       "      <td>bathing</td>\n",
       "      <td>M</td>\n",
       "      <td>17.0</td>\n",
       "      <td>arm</td>\n",
       "      <td>N</td>\n",
       "      <td>not identified</td>\n",
       "    </tr>\n",
       "    <tr>\n",
       "      <th>6113</th>\n",
       "      <td>1817-05-11</td>\n",
       "      <td>Unprovoked</td>\n",
       "      <td>SRI LANKA</td>\n",
       "      <td>swimming</td>\n",
       "      <td>M</td>\n",
       "      <td>22.0</td>\n",
       "      <td>not defined</td>\n",
       "      <td>Y</td>\n",
       "      <td>not identified</td>\n",
       "    </tr>\n",
       "    <tr>\n",
       "      <th>6159</th>\n",
       "      <td>1703-03-26</td>\n",
       "      <td>Unprovoked</td>\n",
       "      <td>BARBADOS</td>\n",
       "      <td>swimming</td>\n",
       "      <td>M</td>\n",
       "      <td>19.0</td>\n",
       "      <td>foot</td>\n",
       "      <td>N</td>\n",
       "      <td>not identified</td>\n",
       "    </tr>\n",
       "  </tbody>\n",
       "</table>\n",
       "<p>3217 rows × 9 columns</p>\n",
       "</div>"
      ],
      "text/plain": [
       "     Case number        Type       Country             Activity Sex   Age  \\\n",
       "0     2018-06-25   Undefined           USA  non common activity   F  57.0   \n",
       "1     2018-06-18  Unprovoked           USA             standing   F  11.0   \n",
       "2     2018-06-09   Undefined           USA              surfing   M  48.0   \n",
       "6     2018-06-03  Unprovoked        BRAZIL             swimming   M  18.0   \n",
       "7     2018-05-27  Unprovoked           USA              fishing   M  52.0   \n",
       "...          ...         ...           ...                  ...  ..   ...   \n",
       "6076  1837-01-17  Unprovoked     AUSTRALIA  non common activity   M  12.0   \n",
       "6088  1830-07-26  Unprovoked           USA              fishing   M  52.0   \n",
       "6095  1828-09-28  Unprovoked  SIERRA LEONE              bathing   M  17.0   \n",
       "6113  1817-05-11  Unprovoked     SRI LANKA             swimming   M  22.0   \n",
       "6159  1703-03-26  Unprovoked      BARBADOS             swimming   M  19.0   \n",
       "\n",
       "           Injury Fatal (y/n)         Species  \n",
       "0       no injury           N     white shark  \n",
       "1     not defined           N  not identified  \n",
       "2             leg           N  not identified  \n",
       "6     not defined           Y     tiger shark  \n",
       "7            foot           N     lemon shark  \n",
       "...           ...         ...             ...  \n",
       "6076  not defined           Y  not identified  \n",
       "6088  not defined           Y  not identified  \n",
       "6095          arm           N  not identified  \n",
       "6113  not defined           Y  not identified  \n",
       "6159         foot           N  not identified  \n",
       "\n",
       "[3217 rows x 9 columns]"
      ]
     },
     "execution_count": 21,
     "metadata": {},
     "output_type": "execute_result"
    }
   ],
   "source": [
    "sharks"
   ]
  },
  {
   "cell_type": "code",
   "execution_count": 22,
   "id": "0bf223eb",
   "metadata": {},
   "outputs": [],
   "source": [
    "sharks.to_csv('clean_sharks_attacks.csv')"
   ]
  }
 ],
 "metadata": {
  "kernelspec": {
   "display_name": "Python 3 (ipykernel)",
   "language": "python",
   "name": "python3"
  },
  "language_info": {
   "codemirror_mode": {
    "name": "ipython",
    "version": 3
   },
   "file_extension": ".py",
   "mimetype": "text/x-python",
   "name": "python",
   "nbconvert_exporter": "python",
   "pygments_lexer": "ipython3",
   "version": "3.9.7"
  }
 },
 "nbformat": 4,
 "nbformat_minor": 5
}
